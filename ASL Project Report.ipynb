{
 "cells": [
  {
   "cell_type": "markdown",
   "metadata": {},
   "source": [
    "# Recognition of American Sign Language via a Leap Motion"
   ]
  },
  {
   "cell_type": "markdown",
   "metadata": {},
   "source": [
    "*by Matt Hehn, Ben Campbell, & Chris Cochran, December, 2017*"
   ]
  },
  {
   "cell_type": "markdown",
   "metadata": {},
   "source": [
    "## Introduction"
   ]
  },
  {
   "cell_type": "markdown",
   "metadata": {},
   "source": [
    "In October 2017, we participated in Colorado State University's Virtual Reality Hackathon. During the 48-hour hackathon, our 4-person team developed a prototype Virtual Reality (VR) experience meant to allow people to learn or practice American Sign Language. Traditionally, learning ASL requires someone already skilled to act as a teacher/tutor to the new learner, which limits the ability of many to learn the language. Additionally, children having to learn ASL as their first language have yet greater difficulties learning the language without another way to convey meaning.\n",
    "\n",
    "Our project in the hackathon was designed to interpret sign language using a Leap Motion sensor mounted on the front of a VR headset, and provide active feedback to the user as to whether they had accurately mimicked a sign (and what it was, if they succeeed. A visual reference was shown in the VR environment). To aid in first-language learning, the system was designed to be able to enter a 'quiz' demo mode, which would ask the user to sign out a full word, at which point the simulation would spawn in a 3D model of the object the word refers to. We ultimately [won the hackathon](https://source.colostate.edu/sign-language-project-wins-second-annual-ram-hackathon/).\n",
    "\n",
    "The key limitation of this demo was its accuracy. In the original Unity project, the C# code used to take data from the sensor was making a very naive comparison with a threshhold of allowed difference between a single \"good\" reference for a sign and the current position of the hand and fingers. Using this method, we were only able to get the prototype to accurately and regularly recognize roughly six letters. \n",
    "\n",
    "It was our aim in this project (and even during the hackathon, though time limitations made it impossible) to train a neural network to more accurately recognize and categorize correct signs to then be re-incorporated back into the VR project at some later date."
   ]
  },
  {
   "cell_type": "markdown",
   "metadata": {},
   "source": [
    "## Prerequisites/Materials"
   ]
  },
  {
   "cell_type": "markdown",
   "metadata": {},
   "source": [
    "### Notebook"
   ]
  },
  {
   "cell_type": "markdown",
   "metadata": {},
   "source": [
    "- Python 3.x\n",
    "- Numpy\n",
    "- Pandas\n",
    "- MatplotLib\n",
    "- Chuck Anderson's Neural Net package"
   ]
  },
  {
   "cell_type": "markdown",
   "metadata": {},
   "source": [
    "### Full Project"
   ]
  },
  {
   "cell_type": "markdown",
   "metadata": {},
   "source": [
    "- Python 3.x 64-bit\n",
    "    - Must be 64-bit, as the Python LeapMotion API had to be recompiled for use in Python 3 and was recompiled for 64-bit\n",
    "- Numpy\n",
    "- Pandas\n",
    "- Matplotlib\n",
    "- Chuck Anderson's Neural Net Package\n",
    "- [Leap Motion Orion 3.2.1 SDK](https://developer.leapmotion.com/releases), Windows version used.\n",
    "- Leap Motion USB Sensor"
   ]
  },
  {
   "cell_type": "markdown",
   "metadata": {},
   "source": [
    "## Methods"
   ]
  },
  {
   "cell_type": "markdown",
   "metadata": {},
   "source": [
    "In order to even begin with structuring and formatting data for implementation with the Neural Network, our work to pull hand data from the sensor had to be ported to the Python version of the sensor SDK's API. Once this was completed, we needed to implement methods to generate and then store data pertaining to hands to a CSV file, with the correct letter/translation of the sign in a row. \n",
    "\n",
    "We ultimately stored a unit vector for each bone in the hand that is tracked by the Leap Motion sensor. By default, the vectors are defined in world coordinates for the sensor rather than relative units. To combat this, we re-defined the hand bones in reference to the palm's vector (so that relative hand position in the sensor's FOV would not confound the bone vectors).\n",
    "\n",
    "At this point, since no dataset we could find online appeared to be in a state we would be able to accurately compare against, we began attempts to generate our own dataset using the script contained in ```HandData.py```. The number of samples for each letter of the alphabet in the data1Normed.csv dataset is listed below."
   ]
  },
  {
   "cell_type": "code",
   "execution_count": 5,
   "metadata": {
    "scrolled": false
   },
   "outputs": [
    {
     "name": "stdout",
     "output_type": "stream",
     "text": [
      "107 samples in class: 0, sign: a \n",
      "78 samples in class: 1, sign: b \n",
      "63 samples in class: 2, sign: c \n",
      "101 samples in class: 3, sign: d \n",
      "50 samples in class: 4, sign: e \n",
      "84 samples in class: 5, sign: f \n",
      "45 samples in class: 6, sign: g \n",
      "66 samples in class: 7, sign: h \n",
      "84 samples in class: 8, sign: i \n",
      "113 samples in class: 9, sign: j \n",
      "84 samples in class: 10, sign: k \n",
      "97 samples in class: 11, sign: l \n",
      "38 samples in class: 12, sign: m \n",
      "67 samples in class: 13, sign: n \n",
      "62 samples in class: 14, sign: o \n",
      "66 samples in class: 15, sign: p \n",
      "109 samples in class: 16, sign: q \n",
      "97 samples in class: 17, sign: r \n",
      "71 samples in class: 18, sign: s \n",
      "71 samples in class: 19, sign: t \n",
      "66 samples in class: 20, sign: u \n",
      "61 samples in class: 21, sign: v \n",
      "70 samples in class: 22, sign: w \n",
      "81 samples in class: 23, sign: x \n",
      "104 samples in class: 24, sign: y \n",
      "38 samples in class: 25, sign: z \n"
     ]
    }
   ],
   "source": [
    "%run \"HandNNetSamples.py\""
   ]
  },
  {
   "cell_type": "markdown",
   "metadata": {},
   "source": [
    "Once we had enough data to begin working with, we set up some methods which would leverage Chuck's Neural Net package and utilities in addition to some of Matt's code from CS440 Assignment 6, which analyzed neural networks given a CSV dataset for use in developing a categorization neural net. This code can be found in ```HandNNet.py``` and the ```Test NNet.ipynb```\n",
    "\n",
    "The graph from the trained network can be seen below (80/20 split)."
   ]
  },
  {
   "cell_type": "code",
   "execution_count": 16,
   "metadata": {
    "collapsed": true
   },
   "outputs": [],
   "source": [
    "%run \"HandNNetGraph.py\""
   ]
  },
  {
   "cell_type": "code",
   "execution_count": 17,
   "metadata": {},
   "outputs": [
    {
     "data": {
      "text/plain": [
       "<matplotlib.legend.Legend at 0x26386416588>"
      ]
     },
     "execution_count": 17,
     "metadata": {},
     "output_type": "execute_result"
    },
    {
     "data": {
      "image/png": "[encoded data removed]",
      "text/plain": [
       "<matplotlib.figure.Figure at 0x263880a7c50>"
      ]
     },
     "metadata": {},
     "output_type": "display_data"
    }
   ],
   "source": [
    "import matplotlib.pyplot as plt\n",
    "%matplotlib inline\n",
    "plt.plot(Ttest, 'o-', alpha=0.5)\n",
    "plt.plot(result, \"o-\", alpha=0.5)\n",
    "\n",
    "labels = np.unique(data[:, 63])\n",
    "plt.xlabel(\"Sample #\")\n",
    "plt.ylabel(\"Sign\")\n",
    "\n",
    "plt.yticks(np.unique(Ttest).tolist(), np.unique(labels).tolist())\n",
    "\n",
    "plt.legend(('Testing','Model'), loc='upper left')"
   ]
  },
  {
   "cell_type": "markdown",
   "metadata": {},
   "source": [
    "### Team Work split:"
   ]
  },
  {
   "cell_type": "markdown",
   "metadata": {},
   "source": [
    "- Ben Campbell\n",
    "    - Data Generation\n",
    "    - Partial report writeup\n",
    "    - Neural Network configuration testing\n",
    "- Chris Cochran\n",
    "    - LOT of Data Generation\n",
    "    - Neural Network configuration testing\n",
    "- Matt Hehn\n",
    "    - Built the Python 3 wrapper for Leap Motion SDK API\n",
    "    - Ported the handling of the sensor controller\n",
    "    - Ported and modified hand data normalization and formatting\n",
    "    - Set up the data-to-csv function\n",
    "    - Set up the Neural Network interface and training functions \n",
    "    - Set up testing python notebook for training and comparing networks\n",
    "    - A little bit of data generation\n",
    "    - Part of report writeup"
   ]
  },
  {
   "cell_type": "markdown",
   "metadata": {},
   "source": [
    "## Results"
   ]
  },
  {
   "cell_type": "markdown",
   "metadata": {},
   "source": [
    "Show all results.  Intermediate resultw might be shown in above Methods section.  Plots, tables, whatever."
   ]
  },
  {
   "cell_type": "markdown",
   "metadata": {},
   "source": []
  },
  {
   "cell_type": "markdown",
   "metadata": {},
   "source": [
    "## Conclusions"
   ]
  },
  {
   "cell_type": "markdown",
   "metadata": {},
   "source": [
    "What I learned."
   ]
  },
  {
   "cell_type": "markdown",
   "metadata": {},
   "source": [
    "### References"
   ]
  },
  {
   "cell_type": "markdown",
   "metadata": {},
   "source": [
    "* [Russell and Norvig, 2014] Stuart Russell and Peter Norvig, [Artificial Intelligence: A Modern Approach](http://aima.cs.berkeley.edu/), Publisher. 2014.\n",
    "* [Chuck Anderson]\n",
    "* Leap SDK doc\n",
    "* "
   ]
  },
  {
   "cell_type": "markdown",
   "metadata": {
    "collapsed": true
   },
   "source": [
    "Your report should contain approximately 1,500 to 5,000 words, in markdown cells.  You can count words by running the following python code in your report directory."
   ]
  },
  {
   "cell_type": "code",
   "execution_count": 19,
   "metadata": {},
   "outputs": [
    {
     "name": "stdout",
     "output_type": "stream",
     "text": [
      "More than one ipynb file. Using the first one.  nbfile= ['ASL Project Report.ipynb', 'Hehn-Proposal.ipynb', 'Test NNet.ipynb']\n",
      "Word count for file ASL Project Report.ipynb is 842\n"
     ]
    }
   ],
   "source": [
    "import io\n",
    "from nbformat import current\n",
    "import glob\n",
    "nbfile = glob.glob('*.ipynb')\n",
    "if len(nbfile) > 1:\n",
    "    print('More than one ipynb file. Using the first one.  nbfile=', nbfile)\n",
    "with io.open(nbfile[0], 'r', encoding='utf-8') as f:\n",
    "    nb = current.read(f, 'json')\n",
    "word_count = 0\n",
    "for cell in nb.worksheets[0].cells:\n",
    "    if cell.cell_type == \"markdown\":\n",
    "        word_count += len(cell['source'].replace('#', '').lstrip().split(' '))\n",
    "print('Word count for file', nbfile[0], 'is', word_count)"
   ]
  },
  {
   "cell_type": "code",
   "execution_count": null,
   "metadata": {
    "collapsed": true
   },
   "outputs": [],
   "source": []
  }
 ],
 "metadata": {
  "kernelspec": {
   "display_name": "Python 3",
   "language": "python",
   "name": "python3"
  },
  "language_info": {
   "codemirror_mode": {
    "name": "ipython",
    "version": 3
   },
   "file_extension": ".py",
   "mimetype": "text/x-python",
   "name": "python",
   "nbconvert_exporter": "python",
   "pygments_lexer": "ipython3",
   "version": "3.6.1"
  }
 },
 "nbformat": 4,
 "nbformat_minor": 1
}
