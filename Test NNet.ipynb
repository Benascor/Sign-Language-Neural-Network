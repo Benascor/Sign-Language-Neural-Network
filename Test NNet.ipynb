{
 "cells": [
  {
   "cell_type": "code",
   "execution_count": 21,
   "metadata": {
    "collapsed": true
   },
   "outputs": [],
   "source": [
    "import os, sys, inspect\n",
    "\n",
    "cmd_folder = os.path.realpath(os.path.abspath(os.path.split(inspect.getfile( inspect.currentframe() ))[0]))\n",
    "if cmd_folder not in sys.path:\n",
    "    sys.path.insert(0, cmd_folder)\n",
    "\n",
    "\n",
    "cmd_subfolder = os.path.realpath(os.path.abspath(os.path.join(os.path.split(inspect.getfile( inspect.currentframe() ))[0],\"lib/Leap\")))\n",
    "if cmd_subfolder not in sys.path:\n",
    "    sys.path.insert(0, cmd_subfolder)\n",
    "    cmd_subfolder = os.path.realpath(os.path.abspath(os.path.join(os.path.split(inspect.getfile( inspect.currentframe() ))[0],\"lib/Anderson\")))\n",
    "if cmd_subfolder not in sys.path:\n",
    "    sys.path.insert(0, cmd_subfolder)"
   ]
  },
  {
   "cell_type": "code",
   "execution_count": 22,
   "metadata": {
    "collapsed": true
   },
   "outputs": [],
   "source": [
    "import pandas as pd\n",
    "import numpy as np\n",
    "import neuralnetworks as nn\n",
    "import mlutils as ml"
   ]
  },
  {
   "cell_type": "code",
   "execution_count": 23,
   "metadata": {
    "collapsed": true
   },
   "outputs": [],
   "source": [
    "def trainNNs(X, T, trainFraction, hiddenLayerStructures, numberRepetitions, numberIterations, classify=False):\n",
    "    import neuralnetworks as nn\n",
    "    import mlutils as ml\n",
    "    import numpy as np\n",
    "    import time\n",
    "    result = []\n",
    "    for structure in hiddenLayerStructures:\n",
    "        trainedResult = []\n",
    "        testResult = []\n",
    "        t0 = time.time()\n",
    "        for n in range(0, numberRepetitions):\n",
    "            Xtrain,Ttrain,Xtest,Ttest = ml.partition(X,T,(trainFraction, 1-trainFraction),classify)\n",
    "            if classify:\n",
    "                nnet = nn.NeuralNetworkClassifier(X.shape[1], structure, len(np.unique(T)))\n",
    "                nnet.train(Xtrain, Ttrain, numberIterations, errorPrecision=1.e-8)\n",
    "                trainedResult.append(np.sum(nnet.use(Xtrain)==Ttrain)/len(Ttrain))\n",
    "                testResult.append(np.sum(nnet.use(Xtest)==Ttest)/len(Ttest))\n",
    "            else:\n",
    "                nnet = nn.NeuralNetwork(X.shape[1], structure, T.shape[1])\n",
    "                nnet.train(Xtrain, Ttrain, numberIterations)\n",
    "                trainedResult.append(np.sqrt(np.mean(((nnet.use(Xtrain)-Ttrain)**2))))\n",
    "                testResult.append(np.sqrt(np.mean(((nnet.use(Xtest)-Ttest)**2))))\n",
    "\n",
    "            \n",
    "        result.append([structure, trainedResult, testResult, time.time() - t0])\n",
    "    return result\n",
    "\n",
    "def summarize(results):\n",
    "    import numpy as np\n",
    "    summaryResults = []\n",
    "    for result in results:\n",
    "        summaryResults.append([result[0], np.mean(result[1]), np.mean(result[2]), result[3]])\n",
    "    return summaryResults\n",
    "\n",
    "\n",
    "def bestNetwork(summary):\n",
    "    best = min(summary, key=lambda l: l[2])\n",
    "    return best\n"
   ]
  },
  {
   "cell_type": "markdown",
   "metadata": {},
   "source": [
    "Dependencies/import config"
   ]
  },
  {
   "cell_type": "markdown",
   "metadata": {},
   "source": [
    "## Get Data"
   ]
  },
  {
   "cell_type": "code",
   "execution_count": 24,
   "metadata": {
    "collapsed": true
   },
   "outputs": [],
   "source": [
    "data = pd.read_csv(\"templates/data1Normed.csv\")\n",
    "names = list(data)\n",
    "data[\"signcode\"] = data[\"sign\"].astype('category').cat.codes\n",
    "data = data.values"
   ]
  },
  {
   "cell_type": "code",
   "execution_count": 25,
   "metadata": {
    "collapsed": true
   },
   "outputs": [],
   "source": [
    "Xhands = data[:, 0:63]\n",
    "Xhands = Xhands.astype(np.float64)"
   ]
  },
  {
   "cell_type": "code",
   "execution_count": 26,
   "metadata": {
    "collapsed": true
   },
   "outputs": [],
   "source": [
    "Tsign = data[:, 64:65]\n",
    "Tsign = Tsign.astype(np.int32)"
   ]
  },
  {
   "cell_type": "code",
   "execution_count": 27,
   "metadata": {},
   "outputs": [
    {
     "data": {
      "text/plain": [
       "(1973, 63)"
      ]
     },
     "execution_count": 27,
     "metadata": {},
     "output_type": "execute_result"
    }
   ],
   "source": [
    "Xhands.shape"
   ]
  },
  {
   "cell_type": "code",
   "execution_count": 28,
   "metadata": {},
   "outputs": [
    {
     "data": {
      "text/plain": [
       "(1973, 1)"
      ]
     },
     "execution_count": 28,
     "metadata": {},
     "output_type": "execute_result"
    }
   ],
   "source": [
    "Tsign.shape"
   ]
  },
  {
   "cell_type": "code",
   "execution_count": 29,
   "metadata": {
    "collapsed": true
   },
   "outputs": [],
   "source": [
    "handNames = names[0:63]\n",
    "signName = names[63]"
   ]
  },
  {
   "cell_type": "code",
   "execution_count": 30,
   "metadata": {},
   "outputs": [
    {
     "name": "stdout",
     "output_type": "stream",
     "text": [
      "107 samples in class 0 sign: a \n",
      "78 samples in class 1 sign: b \n",
      "63 samples in class 2 sign: c \n",
      "101 samples in class 3 sign: d \n",
      "50 samples in class 4 sign: e \n",
      "84 samples in class 5 sign: f \n",
      "45 samples in class 6 sign: g \n",
      "66 samples in class 7 sign: h \n",
      "84 samples in class 8 sign: i \n",
      "113 samples in class 9 sign: j \n",
      "84 samples in class 10 sign: k \n",
      "97 samples in class 11 sign: l \n",
      "38 samples in class 12 sign: m \n",
      "67 samples in class 13 sign: n \n",
      "62 samples in class 14 sign: o \n",
      "66 samples in class 15 sign: p \n",
      "109 samples in class 16 sign: q \n",
      "97 samples in class 17 sign: r \n",
      "71 samples in class 18 sign: s \n",
      "71 samples in class 19 sign: t \n",
      "66 samples in class 20 sign: u \n",
      "61 samples in class 21 sign: v \n",
      "70 samples in class 22 sign: w \n",
      "81 samples in class 23 sign: x \n",
      "104 samples in class 24 sign: y \n",
      "38 samples in class 25 sign: z \n"
     ]
    }
   ],
   "source": [
    "for i in range(0, len(np.unique(Tsign).tolist())):\n",
    "    print('{} samples in class {} sign: {} '.format(np.sum(Tsign==i), i, np.unique(data[:, 63]).tolist()[i]))"
   ]
  },
  {
   "cell_type": "markdown",
   "metadata": {},
   "source": [
    "Get list of how many samples in each class/category/how many of each sign."
   ]
  },
  {
   "cell_type": "markdown",
   "metadata": {},
   "source": [
    "## Test NNet"
   ]
  },
  {
   "cell_type": "code",
   "execution_count": 31,
   "metadata": {
    "collapsed": true
   },
   "outputs": [],
   "source": [
    "results = trainNNs(Xhands, Tsign, 0.90, [5], 10, 100, classify=True)"
   ]
  },
  {
   "cell_type": "code",
   "execution_count": 32,
   "metadata": {},
   "outputs": [
    {
     "data": {
      "text/plain": [
       "[[5,\n",
       "  [0.58760563380281694,\n",
       "   0.65521126760563375,\n",
       "   0.64112676056338025,\n",
       "   0.61464788732394371,\n",
       "   0.62591549295774651,\n",
       "   0.6507042253521127,\n",
       "   0.65746478873239433,\n",
       "   0.61352112676056336,\n",
       "   0.68225352112676052,\n",
       "   0.65014084507042258],\n",
       "  [0.54822335025380708,\n",
       "   0.62436548223350252,\n",
       "   0.65989847715736039,\n",
       "   0.59390862944162437,\n",
       "   0.5532994923857868,\n",
       "   0.56345177664974622,\n",
       "   0.6142131979695431,\n",
       "   0.57360406091370564,\n",
       "   0.65482233502538068,\n",
       "   0.57868020304568524],\n",
       "  48.07427930831909]]"
      ]
     },
     "execution_count": 32,
     "metadata": {},
     "output_type": "execute_result"
    }
   ],
   "source": [
    "results"
   ]
  },
  {
   "cell_type": "code",
   "execution_count": 33,
   "metadata": {},
   "outputs": [
    {
     "data": {
      "text/plain": [
       "[[5, 0.63785915492957757, 0.59644670050761428, 48.07427930831909]]"
      ]
     },
     "execution_count": 33,
     "metadata": {},
     "output_type": "execute_result"
    }
   ],
   "source": [
    "summarize(results)"
   ]
  },
  {
   "cell_type": "code",
   "execution_count": 34,
   "metadata": {},
   "outputs": [
    {
     "data": {
      "text/plain": [
       "[5, 0.63785915492957757, 0.59644670050761428, 48.07427930831909]"
      ]
     },
     "execution_count": 34,
     "metadata": {},
     "output_type": "execute_result"
    }
   ],
   "source": [
    "bestNet = bestNetwork(summarize(results))\n",
    "bestNet"
   ]
  },
  {
   "cell_type": "markdown",
   "metadata": {},
   "source": [
    "## Plot the test"
   ]
  },
  {
   "cell_type": "code",
   "execution_count": 35,
   "metadata": {},
   "outputs": [
    {
     "data": {
      "text/plain": [
       "NeuralNetwork(63, [5], 26)\n",
       "   Network was trained for 100 iterations. Final error is 0.05010960019849873."
      ]
     },
     "execution_count": 35,
     "metadata": {},
     "output_type": "execute_result"
    }
   ],
   "source": [
    "import matplotlib.pyplot as plt\n",
    "%matplotlib inline\n",
    "\n",
    "#run best on \n",
    "Xtrain,Ttrain,Xtest,Ttest = ml.partition(Xhands,Tsign,(0.8, 0.2),True)\n",
    "nnet = nn.NeuralNetworkClassifier(Xtrain.shape[1], bestNet[0], len(np.unique(Ttrain)))\n",
    "nnet.train(Xtrain, Ttrain, 100)"
   ]
  },
  {
   "cell_type": "code",
   "execution_count": 36,
   "metadata": {
    "collapsed": true
   },
   "outputs": [],
   "source": [
    "result = nnet.use(Xtest)"
   ]
  },
  {
   "cell_type": "code",
   "execution_count": 37,
   "metadata": {},
   "outputs": [
    {
     "data": {
      "text/plain": [
       "<matplotlib.legend.Legend at 0x17d1409d198>"
      ]
     },
     "execution_count": 37,
     "metadata": {},
     "output_type": "execute_result"
    },
    {
     "data": {
      "image/png": "[encoded data removed]",
      "text/plain": [
       "<matplotlib.figure.Figure at 0x17d15426438>"
      ]
     },
     "metadata": {},
     "output_type": "display_data"
    }
   ],
   "source": [
    "#plt.subplot(3, 1, 1)\n",
    "plt.plot(Ttest, 'o-', alpha=0.5)\n",
    "plt.plot(result, \"o-\", alpha=0.5)\n",
    "\n",
    "labels = np.unique(data[:, 63])\n",
    "plt.xlabel(\"Sample #\")\n",
    "plt.ylabel(\"Sign\")\n",
    "\n",
    "plt.yticks(np.unique(Ttest).tolist(), np.unique(labels).tolist())\n",
    "\n",
    "plt.legend(('Testing','Model'), loc='upper left')"
   ]
  },
  {
   "cell_type": "markdown",
   "metadata": {},
   "source": [
    "vs"
   ]
  }
 ],
 "metadata": {
  "kernelspec": {
   "display_name": "Python 3",
   "language": "python",
   "name": "python3"
  },
  "language_info": {
   "codemirror_mode": {
    "name": "ipython",
    "version": 3
   },
   "file_extension": ".py",
   "mimetype": "text/x-python",
   "name": "python",
   "nbconvert_exporter": "python",
   "pygments_lexer": "ipython3",
   "version": "3.6.1"
  }
 },
 "nbformat": 4,
 "nbformat_minor": 2
}
