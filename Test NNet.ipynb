{
 "cells": [
  {
   "cell_type": "code",
   "execution_count": 12,
   "metadata": {
    "collapsed": true
   },
   "outputs": [],
   "source": [
    "import os, sys, inspect\n",
    "\n",
    "cmd_folder = os.path.realpath(os.path.abspath(os.path.split(inspect.getfile( inspect.currentframe() ))[0]))\n",
    "if cmd_folder not in sys.path:\n",
    "    sys.path.insert(0, cmd_folder)\n",
    "\n",
    "\n",
    "cmd_subfolder = os.path.realpath(os.path.abspath(os.path.join(os.path.split(inspect.getfile( inspect.currentframe() ))[0],\"lib/Leap\")))\n",
    "if cmd_subfolder not in sys.path:\n",
    "    sys.path.insert(0, cmd_subfolder)\n",
    "    cmd_subfolder = os.path.realpath(os.path.abspath(os.path.join(os.path.split(inspect.getfile( inspect.currentframe() ))[0],\"lib/Anderson\")))\n",
    "if cmd_subfolder not in sys.path:\n",
    "    sys.path.insert(0, cmd_subfolder)"
   ]
  },
  {
   "cell_type": "code",
   "execution_count": 13,
   "metadata": {
    "collapsed": true
   },
   "outputs": [],
   "source": [
    "import pandas as pd\n",
    "import numpy as np\n",
    "import neuralnetworks as nn\n",
    "import mlutils as ml"
   ]
  },
  {
   "cell_type": "code",
   "execution_count": 14,
   "metadata": {
    "collapsed": true
   },
   "outputs": [],
   "source": [
    "def trainNNs(X, T, trainFraction, hiddenLayerStructures, numberRepetitions, numberIterations, classify=False):\n",
    "    import neuralnetworks as nn\n",
    "    import mlutils as ml\n",
    "    import numpy as np\n",
    "    import time\n",
    "    result = []\n",
    "    for structure in hiddenLayerStructures:\n",
    "        trainedResult = []\n",
    "        testResult = []\n",
    "        t0 = time.time()\n",
    "        for n in range(0, numberRepetitions):\n",
    "            Xtrain,Ttrain,Xtest,Ttest = ml.partition(X,T,(trainFraction, 1-trainFraction),classify)\n",
    "            if classify:\n",
    "                nnet = nn.NeuralNetworkClassifier(X.shape[1], structure, len(np.unique(T)))\n",
    "                nnet.train(Xtrain, Ttrain, numberIterations, errorPrecision=1.e-8)\n",
    "                trainedResult.append(np.sum(nnet.use(Xtrain)==Ttrain)/len(Ttrain))\n",
    "                testResult.append(np.sum(nnet.use(Xtest)==Ttest)/len(Ttest))\n",
    "            else:\n",
    "                nnet = nn.NeuralNetwork(X.shape[1], structure, T.shape[1])\n",
    "                nnet.train(Xtrain, Ttrain, numberIterations)\n",
    "                trainedResult.append(np.sqrt(np.mean(((nnet.use(Xtrain)-Ttrain)**2))))\n",
    "                testResult.append(np.sqrt(np.mean(((nnet.use(Xtest)-Ttest)**2))))\n",
    "\n",
    "            \n",
    "        result.append([structure, trainedResult, testResult, time.time() - t0])\n",
    "    return result\n",
    "\n",
    "def summarize(results):\n",
    "    import numpy as np\n",
    "    summaryResults = []\n",
    "    for result in results:\n",
    "        summaryResults.append([result[0], np.mean(result[1]), np.mean(result[2]), result[3]])\n",
    "    return summaryResults\n",
    "\n",
    "\n",
    "def bestNetwork(summary):\n",
    "    best = min(summary, key=lambda l: l[2])\n",
    "    return best\n"
   ]
  },
  {
   "cell_type": "markdown",
   "metadata": {},
   "source": [
    "Dependencies/import config"
   ]
  },
  {
   "cell_type": "markdown",
   "metadata": {},
   "source": [
    "## Get Data"
   ]
  },
  {
   "cell_type": "code",
   "execution_count": 31,
   "metadata": {
    "collapsed": true
   },
   "outputs": [],
   "source": [
    "data = pd.read_csv(\"templates/data1.csv\")\n",
    "names = list(data)\n",
    "data[\"signcode\"] = data[\"sign\"].astype('category').cat.codes\n",
    "data = data.values"
   ]
  },
  {
   "cell_type": "code",
   "execution_count": 32,
   "metadata": {
    "collapsed": true
   },
   "outputs": [],
   "source": [
    "Xhands = data[:, 0:63]\n",
    "Xhands = Xhands.astype(np.float64)"
   ]
  },
  {
   "cell_type": "code",
   "execution_count": 33,
   "metadata": {
    "collapsed": true
   },
   "outputs": [],
   "source": [
    "Tsign = data[:, 64:65]\n",
    "Tsign = Tsign.astype(np.int32)"
   ]
  },
  {
   "cell_type": "code",
   "execution_count": 34,
   "metadata": {},
   "outputs": [
    {
     "data": {
      "text/plain": [
       "(226, 63)"
      ]
     },
     "execution_count": 34,
     "metadata": {},
     "output_type": "execute_result"
    }
   ],
   "source": [
    "Xhands.shape"
   ]
  },
  {
   "cell_type": "code",
   "execution_count": 35,
   "metadata": {},
   "outputs": [
    {
     "data": {
      "text/plain": [
       "(226, 1)"
      ]
     },
     "execution_count": 35,
     "metadata": {},
     "output_type": "execute_result"
    }
   ],
   "source": [
    "Tsign.shape"
   ]
  },
  {
   "cell_type": "code",
   "execution_count": 36,
   "metadata": {
    "collapsed": true
   },
   "outputs": [],
   "source": [
    "handNames = names[0:63]\n",
    "signName = names[63]"
   ]
  },
  {
   "cell_type": "code",
   "execution_count": 37,
   "metadata": {},
   "outputs": [
    {
     "name": "stdout",
     "output_type": "stream",
     "text": [
      "11 samples in class 0\n",
      "11 samples in class 1\n",
      "14 samples in class 2\n",
      "11 samples in class 3\n",
      "10 samples in class 4\n",
      "11 samples in class 5\n",
      "9 samples in class 6\n",
      "9 samples in class 7\n",
      "11 samples in class 8\n",
      "9 samples in class 9\n",
      "7 samples in class 10\n",
      "8 samples in class 11\n",
      "10 samples in class 12\n",
      "8 samples in class 13\n",
      "9 samples in class 14\n",
      "8 samples in class 15\n",
      "6 samples in class 16\n",
      "6 samples in class 17\n",
      "7 samples in class 18\n",
      "8 samples in class 19\n",
      "8 samples in class 20\n",
      "6 samples in class 21\n",
      "9 samples in class 22\n",
      "6 samples in class 23\n",
      "7 samples in class 24\n",
      "7 samples in class 25\n"
     ]
    }
   ],
   "source": [
    "for i in range(0, len(np.unique(Tsign).tolist())):\n",
    "    print('{} samples in class {}'.format(np.sum(Tsign==i), i))"
   ]
  },
  {
   "cell_type": "markdown",
   "metadata": {},
   "source": [
    "Get list of how many samples in each class/category/how many of each sign."
   ]
  },
  {
   "cell_type": "markdown",
   "metadata": {},
   "source": [
    "## Test NNet"
   ]
  },
  {
   "cell_type": "code",
   "execution_count": 43,
   "metadata": {},
   "outputs": [],
   "source": [
    "results = trainNNs(Xhands, Tsign, 0.90, [[50], [20, 20], [5,2,2,5], [5,5,5], [5,5], 5], 10, 100, classify=True)"
   ]
  },
  {
   "cell_type": "code",
   "execution_count": 44,
   "metadata": {},
   "outputs": [
    {
     "data": {
      "text/plain": [
       "[[[50],\n",
       "  [1.0, 1.0, 1.0, 1.0, 1.0, 1.0, 1.0, 1.0, 1.0, 1.0],\n",
       "  [0.57692307692307687,\n",
       "   0.23076923076923078,\n",
       "   0.46153846153846156,\n",
       "   0.61538461538461542,\n",
       "   0.38461538461538464,\n",
       "   0.65384615384615385,\n",
       "   0.57692307692307687,\n",
       "   0.5,\n",
       "   0.5,\n",
       "   0.69230769230769229],\n",
       "  6.848530054092407],\n",
       " [[20, 20],\n",
       "  [1.0, 1.0, 1.0, 1.0, 1.0, 1.0, 1.0, 1.0, 1.0, 1.0],\n",
       "  [0.42307692307692307,\n",
       "   0.46153846153846156,\n",
       "   0.61538461538461542,\n",
       "   0.57692307692307687,\n",
       "   0.30769230769230771,\n",
       "   0.42307692307692307,\n",
       "   0.46153846153846156,\n",
       "   0.46153846153846156,\n",
       "   0.42307692307692307,\n",
       "   0.65384615384615385],\n",
       "  5.210667610168457],\n",
       " [[5, 2, 2, 5],\n",
       "  [0.27000000000000002,\n",
       "   0.17000000000000001,\n",
       "   0.16,\n",
       "   0.125,\n",
       "   0.20000000000000001,\n",
       "   0.23499999999999999,\n",
       "   0.13,\n",
       "   0.22,\n",
       "   0.19,\n",
       "   0.16],\n",
       "  [0.23076923076923078,\n",
       "   0.11538461538461539,\n",
       "   0.076923076923076927,\n",
       "   0.0,\n",
       "   0.15384615384615385,\n",
       "   0.15384615384615385,\n",
       "   0.076923076923076927,\n",
       "   0.19230769230769232,\n",
       "   0.11538461538461539,\n",
       "   0.076923076923076927],\n",
       "  2.8853700160980225],\n",
       " [[5, 5, 5],\n",
       "  [0.27500000000000002,\n",
       "   0.39500000000000002,\n",
       "   0.375,\n",
       "   0.45000000000000001,\n",
       "   0.29499999999999998,\n",
       "   0.39000000000000001,\n",
       "   0.35999999999999999,\n",
       "   0.34999999999999998,\n",
       "   0.52000000000000002,\n",
       "   0.31],\n",
       "  [0.11538461538461539,\n",
       "   0.23076923076923078,\n",
       "   0.19230769230769232,\n",
       "   0.26923076923076922,\n",
       "   0.15384615384615385,\n",
       "   0.23076923076923078,\n",
       "   0.23076923076923078,\n",
       "   0.26923076923076922,\n",
       "   0.19230769230769232,\n",
       "   0.26923076923076922],\n",
       "  3.8704960346221924],\n",
       " [[5, 5],\n",
       "  [0.59999999999999998,\n",
       "   0.60999999999999999,\n",
       "   0.60999999999999999,\n",
       "   0.52000000000000002,\n",
       "   0.67500000000000004,\n",
       "   0.60499999999999998,\n",
       "   0.66000000000000003,\n",
       "   0.59999999999999998,\n",
       "   0.62,\n",
       "   0.63],\n",
       "  [0.38461538461538464,\n",
       "   0.46153846153846156,\n",
       "   0.38461538461538464,\n",
       "   0.26923076923076922,\n",
       "   0.38461538461538464,\n",
       "   0.11538461538461539,\n",
       "   0.19230769230769232,\n",
       "   0.26923076923076922,\n",
       "   0.23076923076923078,\n",
       "   0.26923076923076922],\n",
       "  2.6453473567962646],\n",
       " [5,\n",
       "  [0.72999999999999998,\n",
       "   0.77500000000000002,\n",
       "   0.79000000000000004,\n",
       "   0.78500000000000003,\n",
       "   0.755,\n",
       "   0.77500000000000002,\n",
       "   0.68000000000000005,\n",
       "   0.77500000000000002,\n",
       "   0.79500000000000004,\n",
       "   0.79000000000000004],\n",
       "  [0.5,\n",
       "   0.26923076923076922,\n",
       "   0.53846153846153844,\n",
       "   0.5,\n",
       "   0.5,\n",
       "   0.5,\n",
       "   0.30769230769230771,\n",
       "   0.42307692307692307,\n",
       "   0.34615384615384615,\n",
       "   0.30769230769230771],\n",
       "  2.358802318572998]]"
      ]
     },
     "execution_count": 44,
     "metadata": {},
     "output_type": "execute_result"
    }
   ],
   "source": [
    "results"
   ]
  },
  {
   "cell_type": "code",
   "execution_count": 45,
   "metadata": {},
   "outputs": [
    {
     "data": {
      "text/plain": [
       "[[[50], 1.0, 0.51923076923076927, 6.848530054092407],\n",
       " [[20, 20], 1.0, 0.48076923076923084, 5.210667610168457],\n",
       " [[5, 2, 2, 5], 0.186, 0.11923076923076922, 2.8853700160980225],\n",
       " [[5, 5, 5], 0.372, 0.21538461538461537, 3.8704960346221924],\n",
       " [[5, 5], 0.61299999999999999, 0.29615384615384616, 2.6453473567962646],\n",
       " [5, 0.76500000000000001, 0.41923076923076924, 2.358802318572998]]"
      ]
     },
     "execution_count": 45,
     "metadata": {},
     "output_type": "execute_result"
    }
   ],
   "source": [
    "summarize(results)"
   ]
  },
  {
   "cell_type": "code",
   "execution_count": 46,
   "metadata": {},
   "outputs": [
    {
     "data": {
      "text/plain": [
       "[[5, 2, 2, 5], 0.186, 0.11923076923076922, 2.8853700160980225]"
      ]
     },
     "execution_count": 46,
     "metadata": {},
     "output_type": "execute_result"
    }
   ],
   "source": [
    "bestNet = bestNetwork(summarize(results))\n",
    "bestNet"
   ]
  },
  {
   "cell_type": "markdown",
   "metadata": {},
   "source": [
    "## Plot the test"
   ]
  },
  {
   "cell_type": "code",
   "execution_count": 47,
   "metadata": {},
   "outputs": [
    {
     "data": {
      "text/plain": [
       "NeuralNetwork(63, [5, 2, 2, 5], 26)\n",
       "   Network was trained for 100 iterations. Final error is 0.08607090617278289."
      ]
     },
     "execution_count": 47,
     "metadata": {},
     "output_type": "execute_result"
    }
   ],
   "source": [
    "import matplotlib.pyplot as plt\n",
    "%matplotlib inline\n",
    "\n",
    "#run best on \n",
    "Xtrain,Ttrain,Xtest,Ttest = ml.partition(Xhands,Tsign,(0.8, 0.2),True)\n",
    "nnet = nn.NeuralNetworkClassifier(Xtrain.shape[1], bestNet[0], len(np.unique(Ttrain)))\n",
    "nnet.train(Xtrain, Ttrain, 100)"
   ]
  },
  {
   "cell_type": "code",
   "execution_count": 48,
   "metadata": {
    "collapsed": true
   },
   "outputs": [],
   "source": [
    "result = nnet.use(Xtest)"
   ]
  },
  {
   "cell_type": "code",
   "execution_count": 49,
   "metadata": {},
   "outputs": [
    {
     "data": {
      "text/plain": [
       "<matplotlib.legend.Legend at 0x1edf35ca940>"
      ]
     },
     "execution_count": 49,
     "metadata": {},
     "output_type": "execute_result"
    },
    {
     "data": {
      "image/png": "[encoded data removed]",
      "text/plain": [
       "<matplotlib.figure.Figure at 0x1edf3bd19e8>"
      ]
     },
     "metadata": {},
     "output_type": "display_data"
    }
   ],
   "source": [
    "#plt.subplot(3, 1, 1)\n",
    "plt.plot(Ttest, 'o-', alpha=0.5)\n",
    "plt.plot(result, \"o-\", alpha=0.5)\n",
    "\n",
    "labels = np.unique(data[:, 63])\n",
    "plt.xlabel(\"Sample #\")\n",
    "plt.ylabel(\"Sign\")\n",
    "\n",
    "plt.yticks(np.unique(Ttest).tolist(), np.unique(labels).tolist())\n",
    "\n",
    "plt.legend(('Testing','Model'), loc='upper left')"
   ]
  },
  {
   "cell_type": "code",
   "execution_count": 29,
   "metadata": {},
   "outputs": [
    {
     "data": {
      "text/plain": [
       "[0,\n",
       " 1,\n",
       " 2,\n",
       " 3,\n",
       " 4,\n",
       " 5,\n",
       " 6,\n",
       " 7,\n",
       " 8,\n",
       " 9,\n",
       " 10,\n",
       " 11,\n",
       " 12,\n",
       " 13,\n",
       " 14,\n",
       " 15,\n",
       " 16,\n",
       " 17,\n",
       " 18,\n",
       " 19,\n",
       " 20,\n",
       " 21,\n",
       " 22,\n",
       " 23,\n",
       " 24,\n",
       " 25]"
      ]
     },
     "execution_count": 29,
     "metadata": {},
     "output_type": "execute_result"
    }
   ],
   "source": [
    "np.unique(Ttest).tolist()"
   ]
  },
  {
   "cell_type": "markdown",
   "metadata": {},
   "source": [
    "vs"
   ]
  },
  {
   "cell_type": "code",
   "execution_count": 30,
   "metadata": {},
   "outputs": [
    {
     "data": {
      "text/plain": [
       "[0,\n",
       " 1,\n",
       " 2,\n",
       " 3,\n",
       " 4,\n",
       " 5,\n",
       " 6,\n",
       " 7,\n",
       " 8,\n",
       " 9,\n",
       " 10,\n",
       " 11,\n",
       " 12,\n",
       " 13,\n",
       " 14,\n",
       " 15,\n",
       " 16,\n",
       " 17,\n",
       " 18,\n",
       " 19,\n",
       " 20,\n",
       " 21,\n",
       " 22,\n",
       " 23,\n",
       " 24,\n",
       " 25]"
      ]
     },
     "execution_count": 30,
     "metadata": {},
     "output_type": "execute_result"
    }
   ],
   "source": [
    "np.unique(Tsign).tolist()"
   ]
  },
  {
   "cell_type": "markdown",
   "metadata": {},
   "source": [
    "Numerical versions of the sign categories actually in the test data (may not include all of the categories in the dataset, since it's randomly sampled)"
   ]
  }
 ],
 "metadata": {
  "kernelspec": {
   "display_name": "Python 3",
   "language": "python",
   "name": "python3"
  },
  "language_info": {
   "codemirror_mode": {
    "name": "ipython",
    "version": 3
   },
   "file_extension": ".py",
   "mimetype": "text/x-python",
   "name": "python",
   "nbconvert_exporter": "python",
   "pygments_lexer": "ipython3",
   "version": "3.6.3"
  }
 },
 "nbformat": 4,
 "nbformat_minor": 2
}
