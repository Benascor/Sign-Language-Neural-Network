{
 "cells": [
  {
   "cell_type": "code",
   "execution_count": 1,
   "metadata": {
    "collapsed": true
   },
   "outputs": [],
   "source": [
    "import os, sys, inspect\n",
    "\n",
    "cmd_folder = os.path.realpath(os.path.abspath(os.path.split(inspect.getfile( inspect.currentframe() ))[0]))\n",
    "if cmd_folder not in sys.path:\n",
    "    sys.path.insert(0, cmd_folder)\n",
    "\n",
    "\n",
    "cmd_subfolder = os.path.realpath(os.path.abspath(os.path.join(os.path.split(inspect.getfile( inspect.currentframe() ))[0],\"lib/Leap\")))\n",
    "if cmd_subfolder not in sys.path:\n",
    "    sys.path.insert(0, cmd_subfolder)\n",
    "    cmd_subfolder = os.path.realpath(os.path.abspath(os.path.join(os.path.split(inspect.getfile( inspect.currentframe() ))[0],\"lib/Anderson\")))\n",
    "if cmd_subfolder not in sys.path:\n",
    "    sys.path.insert(0, cmd_subfolder)"
   ]
  },
  {
   "cell_type": "code",
   "execution_count": 2,
   "metadata": {
    "collapsed": true
   },
   "outputs": [],
   "source": [
    "import pandas as pd\n",
    "import numpy as np\n",
    "import neuralnetworks as nn\n",
    "import mlutils as ml"
   ]
  },
  {
   "cell_type": "code",
   "execution_count": 3,
   "metadata": {
    "collapsed": true
   },
   "outputs": [],
   "source": [
    "def trainNNs(X, T, trainFraction, hiddenLayerStructures, numberRepetitions, numberIterations, classify=False):\n",
    "    import neuralnetworks as nn\n",
    "    import mlutils as ml\n",
    "    import numpy as np\n",
    "    import time\n",
    "    result = []\n",
    "    for structure in hiddenLayerStructures:\n",
    "        trainedResult = []\n",
    "        testResult = []\n",
    "        t0 = time.time()\n",
    "        for n in range(0, numberRepetitions):\n",
    "            Xtrain,Ttrain,Xtest,Ttest = ml.partition(X,T,(trainFraction, 1-trainFraction),classify)\n",
    "            if classify:\n",
    "                nnet = nn.NeuralNetworkClassifier(X.shape[1], structure, len(np.unique(T)))\n",
    "                nnet.train(Xtrain, Ttrain, numberIterations, errorPrecision=1.e-8)\n",
    "                trainedResult.append(np.sum(nnet.use(Xtrain)==Ttrain)/len(Ttrain))\n",
    "                testResult.append(np.sum(nnet.use(Xtest)==Ttest)/len(Ttest))\n",
    "            else:\n",
    "                nnet = nn.NeuralNetwork(X.shape[1], structure, T.shape[1])\n",
    "                nnet.train(Xtrain, Ttrain, numberIterations)\n",
    "                trainedResult.append(np.sqrt(np.mean(((nnet.use(Xtrain)-Ttrain)**2))))\n",
    "                testResult.append(np.sqrt(np.mean(((nnet.use(Xtest)-Ttest)**2))))\n",
    "\n",
    "            \n",
    "        result.append([structure, trainedResult, testResult, time.time() - t0])\n",
    "    return result\n",
    "\n",
    "def summarize(results):\n",
    "    import numpy as np\n",
    "    summaryResults = []\n",
    "    for result in results:\n",
    "        summaryResults.append([result[0], np.mean(result[1]), np.mean(result[2]), result[3]])\n",
    "    return summaryResults\n",
    "\n",
    "\n",
    "def bestNetwork(summary):\n",
    "    best = min(summary, key=lambda l: l[2])\n",
    "    return best\n"
   ]
  },
  {
   "cell_type": "markdown",
   "metadata": {},
   "source": [
    "Dependencies/import config"
   ]
  },
  {
   "cell_type": "markdown",
   "metadata": {},
   "source": [
    "## Get Data"
   ]
  },
  {
   "cell_type": "code",
   "execution_count": 4,
   "metadata": {
    "collapsed": true
   },
   "outputs": [],
   "source": [
    "data = pd.read_csv(\"templates/test.csv\")\n",
    "names = list(data)\n",
    "data[\"signcode\"] = data[\"sign\"].astype('category').cat.codes\n",
    "data = data.values"
   ]
  },
  {
   "cell_type": "code",
   "execution_count": 6,
   "metadata": {},
   "outputs": [],
   "source": [
    "Xhands = data[:, 0:63]\n",
    "Xhands = Xhands.astype(np.float64)"
   ]
  },
  {
   "cell_type": "code",
   "execution_count": 7,
   "metadata": {},
   "outputs": [],
   "source": [
    "Tsign = data[:, 64:65]\n",
    "Tsign = Tsign.astype(np.int32)"
   ]
  },
  {
   "cell_type": "code",
   "execution_count": 8,
   "metadata": {},
   "outputs": [
    {
     "data": {
      "text/plain": [
       "(106, 63)"
      ]
     },
     "execution_count": 8,
     "metadata": {},
     "output_type": "execute_result"
    }
   ],
   "source": [
    "Xhands.shape"
   ]
  },
  {
   "cell_type": "code",
   "execution_count": 9,
   "metadata": {},
   "outputs": [
    {
     "data": {
      "text/plain": [
       "(106, 1)"
      ]
     },
     "execution_count": 9,
     "metadata": {},
     "output_type": "execute_result"
    }
   ],
   "source": [
    "Tsign.shape"
   ]
  },
  {
   "cell_type": "code",
   "execution_count": 10,
   "metadata": {},
   "outputs": [],
   "source": [
    "handNames = names[0:63]\n",
    "signName = names[63]"
   ]
  },
  {
   "cell_type": "code",
   "execution_count": 22,
   "metadata": {},
   "outputs": [
    {
     "name": "stdout",
     "output_type": "stream",
     "text": [
      "104 samples in class 0\n",
      "2 samples in class 1\n"
     ]
    }
   ],
   "source": [
    "for i in range(0, len(np.unique(Tsign).tolist())):\n",
    "    print('{} samples in class {}'.format(np.sum(Tsign==i), i))"
   ]
  },
  {
   "cell_type": "markdown",
   "metadata": {},
   "source": [
    "Get list of how many samples in each class/category/how many of each sign."
   ]
  },
  {
   "cell_type": "markdown",
   "metadata": {},
   "source": [
    "## Test NNet"
   ]
  },
  {
   "cell_type": "code",
   "execution_count": 12,
   "metadata": {
    "collapsed": true
   },
   "outputs": [],
   "source": [
    "results = trainNNs(Xhands, Tsign, 0.90, [[5,5], 5], 10, 100, classify=True)"
   ]
  },
  {
   "cell_type": "code",
   "execution_count": 13,
   "metadata": {},
   "outputs": [
    {
     "data": {
      "text/plain": [
       "[[[5, 5],\n",
       "  [0.98958333333333337,\n",
       "   0.98958333333333337,\n",
       "   0.98958333333333337,\n",
       "   0.98958333333333337,\n",
       "   0.98958333333333337,\n",
       "   0.98958333333333337,\n",
       "   0.98958333333333337,\n",
       "   0.98958333333333337,\n",
       "   0.98958333333333337,\n",
       "   0.98958333333333337],\n",
       "  [1.0, 1.0, 1.0, 1.0, 1.0, 1.0, 1.0, 1.0, 1.0, 1.0],\n",
       "  0.6160788536071777],\n",
       " [5,\n",
       "  [0.98958333333333337,\n",
       "   0.98958333333333337,\n",
       "   0.98958333333333337,\n",
       "   0.98958333333333337,\n",
       "   0.98958333333333337,\n",
       "   0.98958333333333337,\n",
       "   0.98958333333333337,\n",
       "   0.98958333333333337,\n",
       "   0.98958333333333337,\n",
       "   0.98958333333333337],\n",
       "  [1.0, 1.0, 1.0, 1.0, 1.0, 1.0, 1.0, 1.0, 1.0, 1.0],\n",
       "  0.5265674591064453]]"
      ]
     },
     "execution_count": 13,
     "metadata": {},
     "output_type": "execute_result"
    }
   ],
   "source": [
    "results"
   ]
  },
  {
   "cell_type": "code",
   "execution_count": 14,
   "metadata": {},
   "outputs": [
    {
     "data": {
      "text/plain": [
       "[[[5, 5], 0.98958333333333337, 1.0, 0.6160788536071777],\n",
       " [5, 0.98958333333333337, 1.0, 0.5265674591064453]]"
      ]
     },
     "execution_count": 14,
     "metadata": {},
     "output_type": "execute_result"
    }
   ],
   "source": [
    "summarize(results)"
   ]
  },
  {
   "cell_type": "code",
   "execution_count": 15,
   "metadata": {},
   "outputs": [
    {
     "data": {
      "text/plain": [
       "[[5, 5], 0.98958333333333337, 1.0, 0.6160788536071777]"
      ]
     },
     "execution_count": 15,
     "metadata": {},
     "output_type": "execute_result"
    }
   ],
   "source": [
    "bestNet = bestNetwork(summarize(results))\n",
    "bestNet"
   ]
  },
  {
   "cell_type": "markdown",
   "metadata": {},
   "source": [
    "## Plot the test"
   ]
  },
  {
   "cell_type": "code",
   "execution_count": 16,
   "metadata": {},
   "outputs": [
    {
     "data": {
      "text/plain": [
       "NeuralNetwork(63, [5, 5], 2)\n",
       "   Network was trained for 100 iterations. Final error is 0.031910832995494."
      ]
     },
     "execution_count": 16,
     "metadata": {},
     "output_type": "execute_result"
    }
   ],
   "source": [
    "import matplotlib.pyplot as plt\n",
    "%matplotlib inline\n",
    "\n",
    "#run best on \n",
    "Xtrain,Ttrain,Xtest,Ttest = ml.partition(Xhands,Tsign,(0.8, 0.2),True)\n",
    "nnet = nn.NeuralNetworkClassifier(Xtrain.shape[1], bestNet[0], len(np.unique(Ttrain)))\n",
    "nnet.train(Xtrain, Ttrain, 100)"
   ]
  },
  {
   "cell_type": "code",
   "execution_count": 17,
   "metadata": {
    "collapsed": true
   },
   "outputs": [],
   "source": [
    "result = nnet.use(Xtest)"
   ]
  },
  {
   "cell_type": "code",
   "execution_count": 20,
   "metadata": {},
   "outputs": [
    {
     "data": {
      "text/plain": [
       "<matplotlib.legend.Legend at 0x23f1cfe8908>"
      ]
     },
     "execution_count": 20,
     "metadata": {},
     "output_type": "execute_result"
    },
    {
     "data": {
      "image/png": "[encoded data removed]",
      "text/plain": [
       "<matplotlib.figure.Figure at 0x23f1ccc6240>"
      ]
     },
     "metadata": {},
     "output_type": "display_data"
    }
   ],
   "source": [
    "#plt.subplot(3, 1, 1)\n",
    "plt.plot(Ttest, 'o-', alpha=0.5)\n",
    "plt.plot(result, \"o-\", alpha=0.5)\n",
    "\n",
    "labels = np.unique(data[:, 63])\n",
    "plt.xlabel(\"Sample #\")\n",
    "plt.ylabel(\"Sign\")\n",
    "\n",
    "plt.yticks(np.unique(Ttest).tolist(), np.unique(labels).tolist())\n",
    "\n",
    "plt.legend(('Testing','Model'), loc='upper left')"
   ]
  },
  {
   "cell_type": "code",
   "execution_count": 19,
   "metadata": {},
   "outputs": [
    {
     "data": {
      "text/plain": [
       "[0]"
      ]
     },
     "execution_count": 19,
     "metadata": {},
     "output_type": "execute_result"
    }
   ],
   "source": [
    "np.unique(Ttest).tolist()"
   ]
  },
  {
   "cell_type": "markdown",
   "metadata": {},
   "source": [
    "vs"
   ]
  },
  {
   "cell_type": "code",
   "execution_count": 23,
   "metadata": {},
   "outputs": [
    {
     "data": {
      "text/plain": [
       "[0, 1]"
      ]
     },
     "execution_count": 23,
     "metadata": {},
     "output_type": "execute_result"
    }
   ],
   "source": [
    "np.unique(Tsign).tolist()"
   ]
  },
  {
   "cell_type": "markdown",
   "metadata": {},
   "source": [
    "Numerical versions of the sign categories actually in the test data (may not include all of the categories in the dataset, since it's randomly sampled)"
   ]
  }
 ],
 "metadata": {
  "kernelspec": {
   "display_name": "Python 3",
   "language": "python",
   "name": "python3"
  },
  "language_info": {
   "codemirror_mode": {
    "name": "ipython",
    "version": 3
   },
   "file_extension": ".py",
   "mimetype": "text/x-python",
   "name": "python",
   "nbconvert_exporter": "python",
   "pygments_lexer": "ipython3",
   "version": "3.6.3"
  }
 },
 "nbformat": 4,
 "nbformat_minor": 2
}
