{
 "cells": [
  {
   "cell_type": "code",
   "execution_count": 12,
   "metadata": {
    "collapsed": true
   },
   "outputs": [],
   "source": [
    "import os, sys, inspect\n",
    "\n",
    "cmd_folder = os.path.realpath(os.path.abspath(os.path.split(inspect.getfile( inspect.currentframe() ))[0]))\n",
    "if cmd_folder not in sys.path:\n",
    "    sys.path.insert(0, cmd_folder)\n",
    "\n",
    "\n",
    "cmd_subfolder = os.path.realpath(os.path.abspath(os.path.join(os.path.split(inspect.getfile( inspect.currentframe() ))[0],\"lib/Leap\")))\n",
    "if cmd_subfolder not in sys.path:\n",
    "    sys.path.insert(0, cmd_subfolder)\n",
    "    cmd_subfolder = os.path.realpath(os.path.abspath(os.path.join(os.path.split(inspect.getfile( inspect.currentframe() ))[0],\"lib/Anderson\")))\n",
    "if cmd_subfolder not in sys.path:\n",
    "    sys.path.insert(0, cmd_subfolder)"
   ]
  },
  {
   "cell_type": "code",
   "execution_count": 13,
   "metadata": {
    "collapsed": true
   },
   "outputs": [],
   "source": [
    "import pandas as pd\n",
    "import numpy as np\n",
    "import neuralnetworks as nn\n",
    "import mlutils as ml"
   ]
  },
  {
   "cell_type": "code",
   "execution_count": 14,
   "metadata": {
    "collapsed": true
   },
   "outputs": [],
   "source": [
    "def trainNNs(X, T, trainFraction, hiddenLayerStructures, numberRepetitions, numberIterations, classify=False):\n",
    "    import neuralnetworks as nn\n",
    "    import mlutils as ml\n",
    "    import numpy as np\n",
    "    import time\n",
    "    result = []\n",
    "    for structure in hiddenLayerStructures:\n",
    "        trainedResult = []\n",
    "        testResult = []\n",
    "        t0 = time.time()\n",
    "        for n in range(0, numberRepetitions):\n",
    "            Xtrain,Ttrain,Xtest,Ttest = ml.partition(X,T,(trainFraction, 1-trainFraction),classify)\n",
    "            if classify:\n",
    "                nnet = nn.NeuralNetworkClassifier(X.shape[1], structure, len(np.unique(T)))\n",
    "                nnet.train(Xtrain, Ttrain, numberIterations, errorPrecision=1.e-8)\n",
    "                trainedResult.append(np.sum(nnet.use(Xtrain)==Ttrain)/len(Ttrain))\n",
    "                testResult.append(np.sum(nnet.use(Xtest)==Ttest)/len(Ttest))\n",
    "            else:\n",
    "                nnet = nn.NeuralNetwork(X.shape[1], structure, T.shape[1])\n",
    "                nnet.train(Xtrain, Ttrain, numberIterations)\n",
    "                trainedResult.append(np.sqrt(np.mean(((nnet.use(Xtrain)-Ttrain)**2))))\n",
    "                testResult.append(np.sqrt(np.mean(((nnet.use(Xtest)-Ttest)**2))))\n",
    "\n",
    "            \n",
    "        result.append([structure, trainedResult, testResult, time.time() - t0])\n",
    "    return result\n",
    "\n",
    "def summarize(results):\n",
    "    import numpy as np\n",
    "    summaryResults = []\n",
    "    for result in results:\n",
    "        summaryResults.append([result[0], np.mean(result[1]), np.mean(result[2]), result[3]])\n",
    "    return summaryResults\n",
    "\n",
    "\n",
    "def bestNetwork(summary):\n",
    "    best = min(summary, key=lambda l: l[2])\n",
    "    return best\n"
   ]
  },
  {
   "cell_type": "markdown",
   "metadata": {},
   "source": [
    "Dependencies/import config"
   ]
  },
  {
   "cell_type": "markdown",
   "metadata": {},
   "source": [
    "## Get Data"
   ]
  },
  {
   "cell_type": "code",
   "execution_count": 15,
   "metadata": {
    "collapsed": true
   },
   "outputs": [],
   "source": [
    "data = pd.read_csv(\"templates/data1.csv\")\n",
    "names = list(data)\n",
    "data[\"signcode\"] = data[\"sign\"].astype('category').cat.codes\n",
    "data = data.values"
   ]
  },
  {
   "cell_type": "code",
   "execution_count": 16,
   "metadata": {
    "collapsed": true
   },
   "outputs": [],
   "source": [
    "Xhands = data[:, 0:63]\n",
    "Xhands = Xhands.astype(np.float64)"
   ]
  },
  {
   "cell_type": "code",
   "execution_count": 17,
   "metadata": {
    "collapsed": true
   },
   "outputs": [],
   "source": [
    "Tsign = data[:, 64:65]\n",
    "Tsign = Tsign.astype(np.int32)"
   ]
  },
  {
   "cell_type": "code",
   "execution_count": 18,
   "metadata": {},
   "outputs": [
    {
     "data": {
      "text/plain": [
       "(822, 63)"
      ]
     },
     "execution_count": 18,
     "metadata": {},
     "output_type": "execute_result"
    }
   ],
   "source": [
    "Xhands.shape"
   ]
  },
  {
   "cell_type": "code",
   "execution_count": 19,
   "metadata": {},
   "outputs": [
    {
     "data": {
      "text/plain": [
       "(822, 1)"
      ]
     },
     "execution_count": 19,
     "metadata": {},
     "output_type": "execute_result"
    }
   ],
   "source": [
    "Tsign.shape"
   ]
  },
  {
   "cell_type": "code",
   "execution_count": 20,
   "metadata": {
    "collapsed": true
   },
   "outputs": [],
   "source": [
    "handNames = names[0:63]\n",
    "signName = names[63]"
   ]
  },
  {
   "cell_type": "code",
   "execution_count": 21,
   "metadata": {},
   "outputs": [
    {
     "name": "stdout",
     "output_type": "stream",
     "text": [
      "46 samples in class 0\n",
      "55 samples in class 1\n",
      "25 samples in class 2\n",
      "27 samples in class 3\n",
      "27 samples in class 4\n",
      "36 samples in class 5\n",
      "31 samples in class 6\n",
      "37 samples in class 7\n",
      "37 samples in class 8\n",
      "43 samples in class 9\n",
      "34 samples in class 10\n",
      "30 samples in class 11\n",
      "31 samples in class 12\n",
      "31 samples in class 13\n",
      "26 samples in class 14\n",
      "21 samples in class 15\n",
      "27 samples in class 16\n",
      "33 samples in class 17\n",
      "24 samples in class 18\n",
      "33 samples in class 19\n",
      "27 samples in class 20\n",
      "25 samples in class 21\n",
      "26 samples in class 22\n",
      "32 samples in class 23\n",
      "27 samples in class 24\n",
      "31 samples in class 25\n"
     ]
    }
   ],
   "source": [
    "for i in range(0, len(np.unique(Tsign).tolist())):\n",
    "    print('{} samples in class {}'.format(np.sum(Tsign==i), i))"
   ]
  },
  {
   "cell_type": "markdown",
   "metadata": {},
   "source": [
    "Get list of how many samples in each class/category/how many of each sign."
   ]
  },
  {
   "cell_type": "markdown",
   "metadata": {},
   "source": [
    "## Test NNet"
   ]
  },
  {
   "cell_type": "code",
   "execution_count": 22,
   "metadata": {},
   "outputs": [],
   "source": [
    "results = trainNNs(Xhands, Tsign, 0.90, [[50], [20, 20], [5,2,2,5], [5,5,5], [5,5], 5], 10, 100, classify=True)"
   ]
  },
  {
   "cell_type": "code",
   "execution_count": 23,
   "metadata": {},
   "outputs": [
    {
     "data": {
      "text/plain": [
       "[[[50],\n",
       "  [1.0, 1.0, 1.0, 1.0, 1.0, 1.0, 1.0, 1.0, 1.0, 1.0],\n",
       "  [0.76829268292682928,\n",
       "   0.81707317073170727,\n",
       "   0.82926829268292679,\n",
       "   0.75609756097560976,\n",
       "   0.84146341463414631,\n",
       "   0.71951219512195119,\n",
       "   0.81707317073170727,\n",
       "   0.82926829268292679,\n",
       "   0.78048780487804881,\n",
       "   0.79268292682926833],\n",
       "  16.84015941619873],\n",
       " [[20, 20],\n",
       "  [0.96747967479674801,\n",
       "   0.98102981029810299,\n",
       "   0.99593495934959353,\n",
       "   0.99322493224932251,\n",
       "   0.98102981029810299,\n",
       "   0.97967479674796742,\n",
       "   0.98915989159891604,\n",
       "   0.97831978319783197,\n",
       "   0.99051490514905149,\n",
       "   0.98780487804878048],\n",
       "  [0.73170731707317072,\n",
       "   0.76829268292682928,\n",
       "   0.76829268292682928,\n",
       "   0.79268292682926833,\n",
       "   0.76829268292682928,\n",
       "   0.81707317073170727,\n",
       "   0.68292682926829273,\n",
       "   0.76829268292682928,\n",
       "   0.80487804878048785,\n",
       "   0.78048780487804881],\n",
       "  11.995526313781738],\n",
       " [[5, 2, 2, 5],\n",
       "  [0.21951219512195122,\n",
       "   0.25880758807588078,\n",
       "   0.33875338753387535,\n",
       "   0.17208672086720866,\n",
       "   0.26964769647696479,\n",
       "   0.19241192411924118,\n",
       "   0.31978319783197834,\n",
       "   0.16395663956639567,\n",
       "   0.30081300813008133,\n",
       "   0.11517615176151762],\n",
       "  [0.26829268292682928,\n",
       "   0.25609756097560976,\n",
       "   0.29268292682926828,\n",
       "   0.15853658536585366,\n",
       "   0.25609756097560976,\n",
       "   0.14634146341463414,\n",
       "   0.28048780487804881,\n",
       "   0.15853658536585366,\n",
       "   0.29268292682926828,\n",
       "   0.10975609756097561],\n",
       "  7.1509058475494385],\n",
       " [[5, 5, 5],\n",
       "  [0.37533875338753386,\n",
       "   0.55555555555555558,\n",
       "   0.35230352303523033,\n",
       "   0.32926829268292684,\n",
       "   0.43902439024390244,\n",
       "   0.27506775067750677,\n",
       "   0.3983739837398374,\n",
       "   0.42818428184281843,\n",
       "   0.30081300813008133,\n",
       "   0.49457994579945802],\n",
       "  [0.35365853658536583,\n",
       "   0.57317073170731703,\n",
       "   0.34146341463414637,\n",
       "   0.31707317073170732,\n",
       "   0.32926829268292684,\n",
       "   0.25609756097560976,\n",
       "   0.34146341463414637,\n",
       "   0.34146341463414637,\n",
       "   0.24390243902439024,\n",
       "   0.51219512195121952],\n",
       "  9.308178901672363],\n",
       " [[5, 5],\n",
       "  [0.6355013550135501,\n",
       "   0.59214092140921404,\n",
       "   0.64363143631436315,\n",
       "   0.57723577235772361,\n",
       "   0.63143631436314362,\n",
       "   0.65311653116531165,\n",
       "   0.60027100271002709,\n",
       "   0.55555555555555558,\n",
       "   0.60298102981029811,\n",
       "   0.61653116531165308],\n",
       "  [0.53658536585365857,\n",
       "   0.58536585365853655,\n",
       "   0.56097560975609762,\n",
       "   0.59756097560975607,\n",
       "   0.63414634146341464,\n",
       "   0.63414634146341464,\n",
       "   0.53658536585365857,\n",
       "   0.62195121951219512,\n",
       "   0.51219512195121952,\n",
       "   0.52439024390243905],\n",
       "  12.14653992652893],\n",
       " [5,\n",
       "  [0.71680216802168017,\n",
       "   0.73577235772357719,\n",
       "   0.76016260162601623,\n",
       "   0.77642276422764223,\n",
       "   0.72493224932249323,\n",
       "   0.68563685636856364,\n",
       "   0.72222222222222221,\n",
       "   0.7615176151761518,\n",
       "   0.70460704607046065,\n",
       "   0.73441734417344173],\n",
       "  [0.68292682926829273,\n",
       "   0.62195121951219512,\n",
       "   0.73170731707317072,\n",
       "   0.67073170731707321,\n",
       "   0.65853658536585369,\n",
       "   0.64634146341463417,\n",
       "   0.59756097560975607,\n",
       "   0.73170731707317072,\n",
       "   0.58536585365853655,\n",
       "   0.67073170731707321],\n",
       "  6.155302047729492]]"
      ]
     },
     "execution_count": 23,
     "metadata": {},
     "output_type": "execute_result"
    }
   ],
   "source": [
    "results"
   ]
  },
  {
   "cell_type": "code",
   "execution_count": 24,
   "metadata": {},
   "outputs": [
    {
     "data": {
      "text/plain": [
       "[[[50], 1.0, 0.79512195121951224, 16.84015941619873],\n",
       " [[20, 20], 0.98441734417344173, 0.76829268292682928, 11.995526313781738],\n",
       " [[5, 2, 2, 5], 0.23509485094850949, 0.22195121951219515, 7.1509058475494385],\n",
       " [[5, 5, 5], 0.3948509485094851, 0.36097560975609755, 9.308178901672363],\n",
       " [[5, 5], 0.61084010840108405, 0.57439024390243898, 12.14653992652893],\n",
       " [5, 0.73224932249322494, 0.65975609756097553, 6.155302047729492]]"
      ]
     },
     "execution_count": 24,
     "metadata": {},
     "output_type": "execute_result"
    }
   ],
   "source": [
    "summarize(results)"
   ]
  },
  {
   "cell_type": "code",
   "execution_count": 25,
   "metadata": {},
   "outputs": [
    {
     "data": {
      "text/plain": [
       "[[5, 2, 2, 5], 0.23509485094850949, 0.22195121951219515, 7.1509058475494385]"
      ]
     },
     "execution_count": 25,
     "metadata": {},
     "output_type": "execute_result"
    }
   ],
   "source": [
    "bestNet = bestNetwork(summarize(results))\n",
    "bestNet"
   ]
  },
  {
   "cell_type": "markdown",
   "metadata": {},
   "source": [
    "## Plot the test"
   ]
  },
  {
   "cell_type": "code",
   "execution_count": 26,
   "metadata": {},
   "outputs": [
    {
     "data": {
      "text/plain": [
       "NeuralNetwork(63, [5, 2, 2, 5], 26)\n",
       "   Network was trained for 100 iterations. Final error is 0.07662725955512321."
      ]
     },
     "execution_count": 26,
     "metadata": {},
     "output_type": "execute_result"
    }
   ],
   "source": [
    "import matplotlib.pyplot as plt\n",
    "%matplotlib inline\n",
    "\n",
    "#run best on \n",
    "Xtrain,Ttrain,Xtest,Ttest = ml.partition(Xhands,Tsign,(0.8, 0.2),True)\n",
    "nnet = nn.NeuralNetworkClassifier(Xtrain.shape[1], bestNet[0], len(np.unique(Ttrain)))\n",
    "nnet.train(Xtrain, Ttrain, 100)"
   ]
  },
  {
   "cell_type": "code",
   "execution_count": 27,
   "metadata": {
    "collapsed": true
   },
   "outputs": [],
   "source": [
    "result = nnet.use(Xtest)"
   ]
  },
  {
   "cell_type": "code",
   "execution_count": 28,
   "metadata": {},
   "outputs": [
    {
     "data": {
      "text/plain": [
       "<matplotlib.legend.Legend at 0x20b40ee2d68>"
      ]
     },
     "execution_count": 28,
     "metadata": {},
     "output_type": "execute_result"
    },
    {
     "data": {
      "image/png": "[encoded data removed]",
      "text/plain": [
       "<matplotlib.figure.Figure at 0x20b40e8c208>"
      ]
     },
     "metadata": {},
     "output_type": "display_data"
    }
   ],
   "source": [
    "#plt.subplot(3, 1, 1)\n",
    "plt.plot(Ttest, 'o-', alpha=0.5)\n",
    "plt.plot(result, \"o-\", alpha=0.5)\n",
    "\n",
    "labels = np.unique(data[:, 63])\n",
    "plt.xlabel(\"Sample #\")\n",
    "plt.ylabel(\"Sign\")\n",
    "\n",
    "plt.yticks(np.unique(Ttest).tolist(), np.unique(labels).tolist())\n",
    "\n",
    "plt.legend(('Testing','Model'), loc='upper left')"
   ]
  },
  {
   "cell_type": "markdown",
   "metadata": {},
   "source": [
    "vs"
   ]
  }
 ],
 "metadata": {
  "kernelspec": {
   "display_name": "Python 3",
   "language": "python",
   "name": "python3"
  }
 },
 "nbformat": 4,
 "nbformat_minor": 2
}
